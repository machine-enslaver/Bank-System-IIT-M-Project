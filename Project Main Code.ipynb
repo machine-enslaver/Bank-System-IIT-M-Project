{
 "cells": [
  {
   "cell_type": "markdown",
   "id": "87bd6bd8-0394-4c09-a13a-2095a8ec7924",
   "metadata": {},
   "source": [
    "Importing necessary libraries"
   ]
  },
  {
   "cell_type": "code",
   "execution_count": 1,
   "id": "8777e29c-1717-4245-867b-38bd231deffd",
   "metadata": {},
   "outputs": [],
   "source": [
    "import os\n",
    "import random\n",
    "from datetime import datetime"
   ]
  },
  {
   "cell_type": "markdown",
   "id": "617c1af3-7374-4f80-8da3-fc828c933ebf",
   "metadata": {},
   "source": [
    "Here we declare the txt files path as well as names for 'accounts' as well as 'transactions'. They're the one storing credentials as well as transaction details."
   ]
  },
  {
   "cell_type": "code",
   "execution_count": 2,
   "id": "f2689da6-ba8f-4072-9ec1-95bbfd59650e",
   "metadata": {},
   "outputs": [],
   "source": [
    "# File paths\n",
    "ACCOUNTS_FILE = \"accounts.txt\"\n",
    "TRANSACTIONS_FILE = \"transactions.txt\""
   ]
  },
  {
   "cell_type": "markdown",
   "id": "0accaa91-5912-4cfc-b818-5e8ef1343f2f",
   "metadata": {},
   "source": [
    "Admin credentials declared."
   ]
  },
  {
   "cell_type": "code",
   "execution_count": 3,
   "id": "73ff9c27-3d2c-40a9-abc3-d97df8c251aa",
   "metadata": {},
   "outputs": [],
   "source": [
    "ADMIN_USERNAME = \"admin\"\n",
    "ADMIN_PASSWORD = \"admin@1234\""
   ]
  },
  {
   "cell_type": "markdown",
   "id": "3ce04a70-4bb5-41bf-9f9a-cbaa6ffc4e6a",
   "metadata": {},
   "source": [
    "Check and create the txt files."
   ]
  },
  {
   "cell_type": "code",
   "execution_count": 4,
   "id": "7e4f44a3-064b-4a47-a824-a618a14d5ef8",
   "metadata": {},
   "outputs": [],
   "source": [
    "def initialize_files():\n",
    "    for file in [ACCOUNTS_FILE, TRANSACTIONS_FILE]:\n",
    "        if not os.path.exists(file):\n",
    "            with open(file, \"w\") as f:\n",
    "                pass  # Create empty file"
   ]
  },
  {
   "cell_type": "code",
   "execution_count": 5,
   "id": "dfd09e7f-95b7-4c81-87d9-912c57bd0084",
   "metadata": {},
   "outputs": [],
   "source": [
    "def write_to_file(filename, data):\n",
    "    with open(filename, \"a\") as file:\n",
    "        file.write(data + \"\\n\")\n",
    "\n",
    "def read_file_lines(filename):\n",
    "    if not os.path.exists(filename):\n",
    "        return []\n",
    "    with open(filename, \"r\") as file:\n",
    "        return file.readlines()"
   ]
  },
  {
   "cell_type": "code",
   "execution_count": 6,
   "id": "eaf6c380-c2e5-4042-913a-ba1d15e6e16c",
   "metadata": {},
   "outputs": [],
   "source": [
    "def generate_unique_account_number():\n",
    "    existing_account_numbers = {line.split(\",\")[0] for line in read_file_lines(ACCOUNTS_FILE)}\n",
    "    while True:\n",
    "        account_number = str(random.randint(100000, 999999))  # This will generate the user ID/account number\n",
    "        if account_number not in existing_account_numbers:\n",
    "            return account_number"
   ]
  },
  {
   "cell_type": "code",
   "execution_count": 7,
   "id": "ead2fe3b-cf91-40de-9daa-d504f7ca9b53",
   "metadata": {},
   "outputs": [],
   "source": [
    "def create_account():\n",
    "    name = input(\"Enter user's name: \")\n",
    "    initial_deposit = float(input(\"Enter initial deposit: \"))\n",
    "    account_number = generate_unique_account_number()\n",
    "    password = input(\"Enter user's password: \")\n",
    "\n",
    "    account_data = f\"{account_number},{name},{password},{initial_deposit}\"\n",
    "    write_to_file(ACCOUNTS_FILE, account_data)\n",
    "    print(f\"Account created successfully! Account number: {account_number}\")\n",
    "\n",
    "def delete_account():\n",
    "    account_number = input(\"Enter account number to delete: \")\n",
    "    accounts = read_file_lines(ACCOUNTS_FILE)\n",
    "    with open(ACCOUNTS_FILE, \"w\") as file:\n",
    "        for account in accounts:\n",
    "            acc_no, _, _, _ = account.strip().split(\",\")\n",
    "            if acc_no != account_number:\n",
    "                file.write(account)\n",
    "            else:\n",
    "                print(f\"Account {account_number} deleted successfully!\")"
   ]
  },
  {
   "cell_type": "code",
   "execution_count": 8,
   "id": "fc783dfb-ca17-4df7-8146-295e8d77a8ec",
   "metadata": {},
   "outputs": [],
   "source": [
    "def login(account_number, password):\n",
    "    accounts = read_file_lines(ACCOUNTS_FILE)\n",
    "    for account in accounts:\n",
    "        acc_no, name, acc_pass, balance = account.strip().split(\",\")\n",
    "        if acc_no == account_number and acc_pass == password:\n",
    "            return name, float(balance)\n",
    "    return None, None"
   ]
  },
  {
   "cell_type": "markdown",
   "id": "56e1d98d-18a4-4ffe-9154-a233703509d8",
   "metadata": {},
   "source": [
    "Here we add the feature of view balance."
   ]
  },
  {
   "cell_type": "code",
   "execution_count": 9,
   "id": "48a6dd9b-903e-41a5-a541-bfa6ab7dce93",
   "metadata": {},
   "outputs": [],
   "source": [
    "def view_current_balance(account_number):\n",
    "    accounts = read_file_lines(ACCOUNTS_FILE)\n",
    "    for account in accounts:\n",
    "        acc_no, name, acc_pass, balance = account.strip().split(\",\")\n",
    "        if acc_no == account_number:\n",
    "            print(f\"Your current balance is: {balance}\")\n",
    "            return\n",
    "    print(\"Account not found.\")"
   ]
  },
  {
   "cell_type": "markdown",
   "id": "09300fe4-00ec-4dfb-8e72-36e3ec5fc7c2",
   "metadata": {},
   "source": [
    "Here we have code snippet to perform & log transaction."
   ]
  },
  {
   "cell_type": "code",
   "execution_count": 10,
   "id": "a7eb2c2f-b17e-48af-9eb3-c3107bc16eb8",
   "metadata": {},
   "outputs": [],
   "source": [
    "def perform_transaction(account_number, balance):\n",
    "    print(\"\\n1. Deposit\")\n",
    "    print(\"2. Withdraw\")\n",
    "    print(\"3. Transfer to another account\")\n",
    "    choice = int(input(\"Enter your choice: \"))\n",
    "\n",
    "    amount = float(input(\"Enter amount: \"))\n",
    "    if choice == 1:  # Deposit\n",
    "        balance += amount\n",
    "        transaction_type = \"Deposit\"\n",
    "        print(f\"Deposit successful! Current balance: {balance}\")\n",
    "    elif choice == 2:  # Withdrawal\n",
    "        if amount > balance:\n",
    "            print(\"Insufficient funds.\")\n",
    "            return balance\n",
    "        balance -= amount\n",
    "        transaction_type = \"Withdrawal\"\n",
    "        print(f\"Withdrawal successful! Current balance: {balance}\")\n",
    "    elif choice == 3:  # Transfer\n",
    "        recipient_account = input(\"Enter recipient account number: \")\n",
    "        if amount > balance:\n",
    "            print(\"Insufficient funds.\")\n",
    "            return balance\n",
    "        accounts = read_file_lines(ACCOUNTS_FILE)\n",
    "        recipient_found = False\n",
    "        for account in accounts:\n",
    "            acc_no, name, acc_pass, acc_balance = account.strip().split(\",\")\n",
    "            if acc_no == recipient_account:\n",
    "                recipient_balance = float(acc_balance) + amount\n",
    "                recipient_found = True\n",
    "                break\n",
    "        if not recipient_found:\n",
    "            print(\"Recipient account not found.\")\n",
    "            return balance\n",
    "        balance -= amount\n",
    "        print(f\"Transfer successful! Remaining balance: {balance}\")\n",
    "\n",
    "        # Update recipient account\n",
    "        with open(ACCOUNTS_FILE, \"w\") as file:\n",
    "            for account in accounts:\n",
    "                acc_no, name, acc_pass, acc_balance = account.strip().split(\",\")\n",
    "                if acc_no == account_number:\n",
    "                    acc_balance = str(balance)\n",
    "                elif acc_no == recipient_account:\n",
    "                    acc_balance = str(recipient_balance)\n",
    "                file.write(f\"{acc_no},{name},{acc_pass},{acc_balance}\\n\")\n",
    "        transaction_type = \"Transfer\"\n",
    "    else:\n",
    "        print(\"Invalid choice.\")\n",
    "        return balance\n",
    "\n",
    "    # Log transaction\n",
    "    transaction_data = f\"{account_number},{transaction_type},{amount},{datetime.now().date()}\"\n",
    "    write_to_file(TRANSACTIONS_FILE, transaction_data)\n",
    "\n",
    "    # Update balance in accounts.txt\n",
    "    update_account_balance(account_number, balance)\n",
    "\n",
    "    return balance"
   ]
  },
  {
   "cell_type": "markdown",
   "id": "f072ba5a-3be1-4f4f-8f73-0013dbfe982b",
   "metadata": {},
   "source": [
    "Now we create the interface for the main menu."
   ]
  },
  {
   "cell_type": "code",
   "execution_count": null,
   "id": "60509074-b8f3-4c93-9871-da3bde8949ee",
   "metadata": {},
   "outputs": [
    {
     "name": "stdout",
     "output_type": "stream",
     "text": [
      "\n",
      "Welcome to the Banking System!\n"
     ]
    },
    {
     "name": "stdin",
     "output_type": "stream",
     "text": [
      "Enter User ID:  admin\n",
      "Enter Password:  admin@1234\n"
     ]
    },
    {
     "name": "stdout",
     "output_type": "stream",
     "text": [
      "\n",
      "Admin Mode\n",
      "\n",
      "1. Create Account\n",
      "2. Delete Account\n",
      "3. Logout\n"
     ]
    },
    {
     "name": "stdin",
     "output_type": "stream",
     "text": [
      "Enter your choice:  3\n"
     ]
    },
    {
     "name": "stdout",
     "output_type": "stream",
     "text": [
      "Logged out of Admin Mode.\n",
      "\n",
      "Welcome to the Banking System!\n"
     ]
    }
   ],
   "source": [
    "def main():\n",
    "    initialize_files()  # Ensure files exist\n",
    "\n",
    "    while True:\n",
    "        print(\"\\nWelcome to the Banking System!\")\n",
    "        user_id = input(\"Enter User ID: \")\n",
    "        password = input(\"Enter Password: \")\n",
    "\n",
    "        if user_id == ADMIN_USERNAME and password == ADMIN_PASSWORD:\n",
    "            print(\"\\nAdmin Mode\")\n",
    "            while True:\n",
    "                print(\"\\n1. Create Account\")\n",
    "                print(\"2. Delete Account\")\n",
    "                print(\"3. Logout\")\n",
    "                choice = int(input(\"Enter your choice: \"))\n",
    "                if choice == 1:\n",
    "                    create_account()\n",
    "                elif choice == 2:\n",
    "                    delete_account()\n",
    "                elif choice == 3:\n",
    "                    print(\"Logged out of Admin Mode.\")\n",
    "                    break\n",
    "                else:\n",
    "                    print(\"Invalid choice.\")\n",
    "        else:\n",
    "            name, balance = login(user_id, password)\n",
    "            if name:\n",
    "                print(f\"\\nLogin successful! Welcome, {name}\")\n",
    "                while True:\n",
    "                    print(\"\\n1. View Current Balance\")\n",
    "                    print(\"2. Perform Transaction\")\n",
    "                    print(\"3. Logout\")\n",
    "                    choice = int(input(\"Enter your choice: \"))\n",
    "                    if choice == 1:\n",
    "                        view_current_balance(user_id)\n",
    "                    elif choice == 2:\n",
    "                        balance = perform_transaction(user_id, balance)\n",
    "                    elif choice == 3:\n",
    "                        print(\"Logged out successfully!\")\n",
    "                        break\n",
    "                    else:\n",
    "                        print(\"Invalid choice.\")\n",
    "            else:\n",
    "                print(\"Invalid User ID or Password.\")\n",
    "\n",
    "if __name__ == \"__main__\":\n",
    "    main()"
   ]
  },
  {
   "cell_type": "code",
   "execution_count": null,
   "id": "7f485eea-c881-41ad-a63e-1c366ed5c96b",
   "metadata": {},
   "outputs": [],
   "source": []
  }
 ],
 "metadata": {
  "kernelspec": {
   "display_name": "Python 3 (ipykernel)",
   "language": "python",
   "name": "python3"
  },
  "language_info": {
   "codemirror_mode": {
    "name": "ipython",
    "version": 3
   },
   "file_extension": ".py",
   "mimetype": "text/x-python",
   "name": "python",
   "nbconvert_exporter": "python",
   "pygments_lexer": "ipython3",
   "version": "3.12.7"
  }
 },
 "nbformat": 4,
 "nbformat_minor": 5
}
